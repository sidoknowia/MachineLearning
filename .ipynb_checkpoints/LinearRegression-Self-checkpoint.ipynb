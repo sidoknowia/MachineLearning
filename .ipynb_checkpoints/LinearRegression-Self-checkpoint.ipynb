{
 "cells": [
  {
   "cell_type": "code",
   "execution_count": 15,
   "metadata": {
    "collapsed": false
   },
   "outputs": [],
   "source": [
    "import numpy as np\n",
    "import matplotlib.pyplot as plt\n",
    "import scipy\n",
    "import sklearn.datasets\n",
    "from sklearn.cross_validation import train_test_split\n",
    "\n",
    "%matplotlib inline"
   ]
  },
  {
   "cell_type": "markdown",
   "metadata": {},
   "source": [
    "# Simple Regression\n",
    "\n",
    "formula is Y = m*x + c,\n",
    "where Y is dependent variable, x is independent variable\n",
    "m is slope, c is intercept\n"
   ]
  },
  {
   "cell_type": "code",
   "execution_count": 16,
   "metadata": {
    "collapsed": true
   },
   "outputs": [],
   "source": [
    "house_data = sklearn.datasets.load_boston()"
   ]
  },
  {
   "cell_type": "raw",
   "metadata": {},
   "source": [
    "# Field Names\n",
    "-CRIM per capita crime rate by town\n",
    "-ZN proportion of residential land zoned for lots over 25,000 sq.ft.\n",
    "-INDUS proportion of non-retail business acres per town\n",
    "-CHAS Charles River dummy variable (= 1 if tract bounds river; 0 otherwise)\n",
    "-NOX nitric oxides concentration (parts per 10 million)\n",
    "-RM average number of rooms per dwelling\n",
    "-AGE proportion of owner-occupied units built prior to 1940\n",
    "-DIS weighted distances to five Boston employment centres\n",
    "-RAD index of accessibility to radial highways\n",
    "-TAX full-value property-tax rate per ten-thousand\n",
    "-PTRATIO pupil-teacher ratio by town\n",
    "-B 1000(Bk - 0.63)^2 where Bk is the proportion of blacks by town\n",
    "-LSTAT (in%) lower status of the population\n",
    "-MEDV Median value of owner-occupied homes in $1000’s --> Target\n",
    "\n",
    "\n",
    "Let us see what is the relation between Averege number of rooms per dwelling - RM (size of house) and Median Value (MEDV) - price of house"
   ]
  },
  {
   "cell_type": "markdown",
   "metadata": {},
   "source": [
    "# Defining helper functions"
   ]
  },
  {
   "cell_type": "code",
   "execution_count": 17,
   "metadata": {
    "collapsed": false
   },
   "outputs": [],
   "source": [
    "def load_data(data, split_ratio = 0.2):\n",
    "    x = data['data']\n",
    "    y = data['target']\n",
    "    return train_test_split(x,y,test_size=split_ratio)"
   ]
  },
  {
   "cell_type": "code",
   "execution_count": 18,
   "metadata": {
    "collapsed": false
   },
   "outputs": [],
   "source": [
    "np.random.seed(0)\n",
    "train_x,test_x,train_y, test_y = load_data(house_data, 0.2)"
   ]
  },
  {
   "cell_type": "code",
   "execution_count": 19,
   "metadata": {
    "collapsed": false
   },
   "outputs": [],
   "source": [
    "train_x_rm = train_x[:,5]\n",
    "test_x_rm = test_x[:,5]"
   ]
  },
  {
   "cell_type": "code",
   "execution_count": 20,
   "metadata": {
    "collapsed": false
   },
   "outputs": [
    {
     "name": "stdout",
     "output_type": "stream",
     "text": [
      "(404L, 13L)\n",
      "(102L, 13L)\n",
      "(404L,)\n",
      "(102L,)\n"
     ]
    }
   ],
   "source": [
    "print(train_x.shape)\n",
    "print(test_x.shape)\n",
    "print(train_y.shape)\n",
    "print(test_y.shape)"
   ]
  },
  {
   "cell_type": "code",
   "execution_count": 21,
   "metadata": {
    "collapsed": true
   },
   "outputs": [],
   "source": [
    "def initialize_coefficiants():\n",
    "    m = 0\n",
    "    c = 0\n",
    "    return m , c"
   ]
  },
  {
   "cell_type": "code",
   "execution_count": 22,
   "metadata": {
    "collapsed": true
   },
   "outputs": [],
   "source": [
    "def fit(x , y):\n",
    "    m = ( np.mean(x*y) - np.mean(x)*np.mean(y) ) / (np.mean(x**2) - np.mean(x)*np.mean(x))\n",
    "    c = np.mean(y) - ( m * np.mean(x) )\n",
    "    return m , c"
   ]
  },
  {
   "cell_type": "code",
   "execution_count": 23,
   "metadata": {
    "collapsed": false
   },
   "outputs": [],
   "source": [
    "def predict(x):\n",
    "    return m*x + c"
   ]
  },
  {
   "cell_type": "code",
   "execution_count": 24,
   "metadata": {
    "collapsed": false
   },
   "outputs": [
    {
     "name": "stdout",
     "output_type": "stream",
     "text": [
      "(9.3763843134360894, -36.476189627646249)\n"
     ]
    }
   ],
   "source": [
    "m , c = initialize_coefficiants()\n",
    "m ,c = fit(train_x_rm,train_y)\n",
    "print(m,c)"
   ]
  },
  {
   "cell_type": "code",
   "execution_count": 25,
   "metadata": {
    "collapsed": false
   },
   "outputs": [],
   "source": [
    "test_y_predict = np.array([predict(xp) for xp in test_x_rm])"
   ]
  },
  {
   "cell_type": "code",
   "execution_count": 26,
   "metadata": {
    "collapsed": true
   },
   "outputs": [],
   "source": [
    "def squared_error(y_t, y_p):\n",
    "    return np.sum((y_p - y_t)**2)"
   ]
  },
  {
   "cell_type": "code",
   "execution_count": 27,
   "metadata": {
    "collapsed": false
   },
   "outputs": [
    {
     "name": "stdout",
     "output_type": "stream",
     "text": [
      "4784.54986599\n"
     ]
    }
   ],
   "source": [
    "rss = squared_error(test_y , test_y_predict)\n",
    "print(rss)"
   ]
  },
  {
   "cell_type": "code",
   "execution_count": 29,
   "metadata": {
    "collapsed": false
   },
   "outputs": [
    {
     "name": "stdout",
     "output_type": "stream",
     "text": [
      "(102L,)\n",
      "(102L,)\n",
      "[ 22.6  50.   23.    8.3  21.2  19.9  20.6]\n",
      "[ 22.90445223  21.80741526  23.2795076   13.67809006  21.95743741\n",
      "  18.22563646  18.89135974]\n"
     ]
    },
    {
     "data": {
      "image/png": "[encoded data removed]",
      "text/plain": [
       "<matplotlib.figure.Figure at 0xadf1c88>"
      ]
     },
     "metadata": {},
     "output_type": "display_data"
    }
   ],
   "source": [
    "print(test_y_predict.shape)\n",
    "print(test_y.shape)\n",
    "\n",
    "print(test_y[:7])\n",
    "print(test_y_predict[:7])\n",
    "\n",
    "plt.plot(test_y)\n",
    "plt.plot(test_y_predict, 'ro')\n",
    "plt.show()"
   ]
  },
  {
   "cell_type": "code",
   "execution_count": null,
   "metadata": {
    "collapsed": true
   },
   "outputs": [],
   "source": []
  }
 ],
 "metadata": {
  "kernelspec": {
   "display_name": "Python 2",
   "language": "python",
   "name": "python2"
  },
  "language_info": {
   "codemirror_mode": {
    "name": "ipython",
    "version": 2
   },
   "file_extension": ".py",
   "mimetype": "text/x-python",
   "name": "python",
   "nbconvert_exporter": "python",
   "pygments_lexer": "ipython2",
   "version": "2.7.13"
  }
 },
 "nbformat": 4,
 "nbformat_minor": 0
}
