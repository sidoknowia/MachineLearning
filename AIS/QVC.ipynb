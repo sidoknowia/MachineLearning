{
 "cells": [
  {
   "cell_type": "code",
   "execution_count": 1,
   "metadata": {
    "collapsed": true
   },
   "outputs": [],
   "source": [
    "import pandas as pd\n",
    "import numpy as np"
   ]
  },
  {
   "cell_type": "code",
   "execution_count": 2,
   "metadata": {
    "collapsed": false
   },
   "outputs": [
    {
     "data": {
      "text/html": [
       "<div>\n",
       "<table border=\"1\" class=\"dataframe\">\n",
       "  <thead>\n",
       "    <tr style=\"text-align: right;\">\n",
       "      <th></th>\n",
       "      <th>#Sales_Order_Nbr</th>\n",
       "      <th>Sales_Order_Line_Nbr</th>\n",
       "      <th>Package_Id</th>\n",
       "      <th>Order_Dt</th>\n",
       "      <th>Party_Id</th>\n",
       "      <th>Order_Type_Cd</th>\n",
       "      <th>Shipping_Priority_Ind</th>\n",
       "      <th>Total_Line_Amt</th>\n",
       "      <th>Unit_Price_Amt</th>\n",
       "      <th>Line_Status_Cd</th>\n",
       "      <th>...</th>\n",
       "      <th>Pickup_Dt</th>\n",
       "      <th>Scheduled_Delivery_Dt</th>\n",
       "      <th>Rescheduled_Delivery_Dt</th>\n",
       "      <th>Package_Scan_Dttm</th>\n",
       "      <th>Package_Cnt</th>\n",
       "      <th>Actual_Total_Package_Qty</th>\n",
       "      <th>Delivery_Confirmation_Dt</th>\n",
       "      <th>SHIP_TO_CITY</th>\n",
       "      <th>SHIP_TO_STATE</th>\n",
       "      <th>SHIP_TO_ZIP</th>\n",
       "    </tr>\n",
       "  </thead>\n",
       "  <tbody>\n",
       "    <tr>\n",
       "      <th>0</th>\n",
       "      <td>650057291936</td>\n",
       "      <td>1</td>\n",
       "      <td>2909894305</td>\n",
       "      <td>2016-09-30</td>\n",
       "      <td>1096789</td>\n",
       "      <td>QVC</td>\n",
       "      <td>NaN</td>\n",
       "      <td>37.98</td>\n",
       "      <td>35.00</td>\n",
       "      <td>VS</td>\n",
       "      <td>...</td>\n",
       "      <td>NaN</td>\n",
       "      <td>NaN</td>\n",
       "      <td>NaN</td>\n",
       "      <td>2016-10-02 08:28:56</td>\n",
       "      <td>1</td>\n",
       "      <td>1</td>\n",
       "      <td>2016-10-04</td>\n",
       "      <td>NaN</td>\n",
       "      <td>NJ</td>\n",
       "      <td>8844</td>\n",
       "    </tr>\n",
       "    <tr>\n",
       "      <th>1</th>\n",
       "      <td>649303089426</td>\n",
       "      <td>1</td>\n",
       "      <td>2924001292</td>\n",
       "      <td>2016-11-08</td>\n",
       "      <td>12488699</td>\n",
       "      <td>QVC</td>\n",
       "      <td>NaN</td>\n",
       "      <td>33.82</td>\n",
       "      <td>28.68</td>\n",
       "      <td>VS</td>\n",
       "      <td>...</td>\n",
       "      <td>NaN</td>\n",
       "      <td>NaN</td>\n",
       "      <td>NaN</td>\n",
       "      <td>2016-11-09 15:15:05</td>\n",
       "      <td>1</td>\n",
       "      <td>1</td>\n",
       "      <td>2016-11-15</td>\n",
       "      <td>NaN</td>\n",
       "      <td>OH</td>\n",
       "      <td>44319</td>\n",
       "    </tr>\n",
       "    <tr>\n",
       "      <th>2</th>\n",
       "      <td>650115704916</td>\n",
       "      <td>1</td>\n",
       "      <td>2921368568</td>\n",
       "      <td>2016-10-18</td>\n",
       "      <td>47421699</td>\n",
       "      <td>QVC</td>\n",
       "      <td>NaN</td>\n",
       "      <td>53.78</td>\n",
       "      <td>47.50</td>\n",
       "      <td>RT</td>\n",
       "      <td>...</td>\n",
       "      <td>NaN</td>\n",
       "      <td>NaN</td>\n",
       "      <td>NaN</td>\n",
       "      <td>2016-11-03 03:11:28</td>\n",
       "      <td>1</td>\n",
       "      <td>1</td>\n",
       "      <td>2016-11-05</td>\n",
       "      <td>NaN</td>\n",
       "      <td>OH</td>\n",
       "      <td>44657</td>\n",
       "    </tr>\n",
       "    <tr>\n",
       "      <th>3</th>\n",
       "      <td>649147306436</td>\n",
       "      <td>1</td>\n",
       "      <td>2909501335</td>\n",
       "      <td>2016-09-19</td>\n",
       "      <td>626910699</td>\n",
       "      <td>QVC</td>\n",
       "      <td>NaN</td>\n",
       "      <td>73.17</td>\n",
       "      <td>66.20</td>\n",
       "      <td>RT</td>\n",
       "      <td>...</td>\n",
       "      <td>NaN</td>\n",
       "      <td>NaN</td>\n",
       "      <td>NaN</td>\n",
       "      <td>2016-09-30 16:13:48</td>\n",
       "      <td>1</td>\n",
       "      <td>1</td>\n",
       "      <td>2016-10-07</td>\n",
       "      <td>NaN</td>\n",
       "      <td>IA</td>\n",
       "      <td>51046</td>\n",
       "    </tr>\n",
       "    <tr>\n",
       "      <th>4</th>\n",
       "      <td>849309172438</td>\n",
       "      <td>2</td>\n",
       "      <td>2924707056</td>\n",
       "      <td>2016-11-11</td>\n",
       "      <td>53373699</td>\n",
       "      <td>QVC</td>\n",
       "      <td>NaN</td>\n",
       "      <td>45.49</td>\n",
       "      <td>39.94</td>\n",
       "      <td>VS</td>\n",
       "      <td>...</td>\n",
       "      <td>2016-11-14 00:00:00</td>\n",
       "      <td>NaN</td>\n",
       "      <td>2016-11-17 00:00:00</td>\n",
       "      <td>2016-11-13 20:27:19</td>\n",
       "      <td>1</td>\n",
       "      <td>2</td>\n",
       "      <td>2016-11-17</td>\n",
       "      <td>NaN</td>\n",
       "      <td>MO</td>\n",
       "      <td>63304</td>\n",
       "    </tr>\n",
       "  </tbody>\n",
       "</table>\n",
       "<p>5 rows × 36 columns</p>\n",
       "</div>"
      ],
      "text/plain": [
       "   #Sales_Order_Nbr  Sales_Order_Line_Nbr  Package_Id   Order_Dt   Party_Id  \\\n",
       "0      650057291936                     1  2909894305 2016-09-30    1096789   \n",
       "1      649303089426                     1  2924001292 2016-11-08   12488699   \n",
       "2      650115704916                     1  2921368568 2016-10-18   47421699   \n",
       "3      649147306436                     1  2909501335 2016-09-19  626910699   \n",
       "4      849309172438                     2  2924707056 2016-11-11   53373699   \n",
       "\n",
       "  Order_Type_Cd  Shipping_Priority_Ind  Total_Line_Amt  Unit_Price_Amt  \\\n",
       "0           QVC                    NaN           37.98           35.00   \n",
       "1           QVC                    NaN           33.82           28.68   \n",
       "2           QVC                    NaN           53.78           47.50   \n",
       "3           QVC                    NaN           73.17           66.20   \n",
       "4           QVC                    NaN           45.49           39.94   \n",
       "\n",
       "  Line_Status_Cd     ...                 Pickup_Dt  Scheduled_Delivery_Dt  \\\n",
       "0             VS     ...                       NaN                    NaN   \n",
       "1             VS     ...                       NaN                    NaN   \n",
       "2             RT     ...                       NaN                    NaN   \n",
       "3             RT     ...                       NaN                    NaN   \n",
       "4             VS     ...       2016-11-14 00:00:00                    NaN   \n",
       "\n",
       "   Rescheduled_Delivery_Dt   Package_Scan_Dttm Package_Cnt  \\\n",
       "0                      NaN 2016-10-02 08:28:56           1   \n",
       "1                      NaN 2016-11-09 15:15:05           1   \n",
       "2                      NaN 2016-11-03 03:11:28           1   \n",
       "3                      NaN 2016-09-30 16:13:48           1   \n",
       "4      2016-11-17 00:00:00 2016-11-13 20:27:19           1   \n",
       "\n",
       "  Actual_Total_Package_Qty Delivery_Confirmation_Dt  SHIP_TO_CITY  \\\n",
       "0                        1               2016-10-04           NaN   \n",
       "1                        1               2016-11-15           NaN   \n",
       "2                        1               2016-11-05           NaN   \n",
       "3                        1               2016-10-07           NaN   \n",
       "4                        2               2016-11-17           NaN   \n",
       "\n",
       "   SHIP_TO_STATE  SHIP_TO_ZIP  \n",
       "0           NJ           8844  \n",
       "1           OH          44319  \n",
       "2           OH          44657  \n",
       "3           IA          51046  \n",
       "4           MO          63304  \n",
       "\n",
       "[5 rows x 36 columns]"
      ]
     },
     "execution_count": 2,
     "metadata": {},
     "output_type": "execute_result"
    }
   ],
   "source": [
    "data = pd.read_excel(\"SmallerQVCdata.xlsx\")\n",
    "data2 = pd.read_csv(\"2010_Census_Populations_by_Zip_Code.csv\")\n",
    "data.head()"
   ]
  },
  {
   "cell_type": "code",
   "execution_count": 3,
   "metadata": {
    "collapsed": false
   },
   "outputs": [
    {
     "data": {
      "text/html": [
       "<div>\n",
       "<table border=\"1\" class=\"dataframe\">\n",
       "  <thead>\n",
       "    <tr style=\"text-align: right;\">\n",
       "      <th></th>\n",
       "      <th>Zip Code</th>\n",
       "      <th>Total Population</th>\n",
       "      <th>Median Age</th>\n",
       "      <th>Total Males</th>\n",
       "      <th>Total Females</th>\n",
       "      <th>Total Households</th>\n",
       "      <th>Average Household Size</th>\n",
       "    </tr>\n",
       "  </thead>\n",
       "  <tbody>\n",
       "    <tr>\n",
       "      <th>0</th>\n",
       "      <td>91371</td>\n",
       "      <td>1</td>\n",
       "      <td>73.5</td>\n",
       "      <td>0</td>\n",
       "      <td>1</td>\n",
       "      <td>1</td>\n",
       "      <td>1.00</td>\n",
       "    </tr>\n",
       "    <tr>\n",
       "      <th>1</th>\n",
       "      <td>90001</td>\n",
       "      <td>57110</td>\n",
       "      <td>26.6</td>\n",
       "      <td>28468</td>\n",
       "      <td>28642</td>\n",
       "      <td>12971</td>\n",
       "      <td>4.40</td>\n",
       "    </tr>\n",
       "    <tr>\n",
       "      <th>2</th>\n",
       "      <td>90002</td>\n",
       "      <td>51223</td>\n",
       "      <td>25.5</td>\n",
       "      <td>24876</td>\n",
       "      <td>26347</td>\n",
       "      <td>11731</td>\n",
       "      <td>4.36</td>\n",
       "    </tr>\n",
       "    <tr>\n",
       "      <th>3</th>\n",
       "      <td>90003</td>\n",
       "      <td>66266</td>\n",
       "      <td>26.3</td>\n",
       "      <td>32631</td>\n",
       "      <td>33635</td>\n",
       "      <td>15642</td>\n",
       "      <td>4.22</td>\n",
       "    </tr>\n",
       "    <tr>\n",
       "      <th>4</th>\n",
       "      <td>90004</td>\n",
       "      <td>62180</td>\n",
       "      <td>34.8</td>\n",
       "      <td>31302</td>\n",
       "      <td>30878</td>\n",
       "      <td>22547</td>\n",
       "      <td>2.73</td>\n",
       "    </tr>\n",
       "  </tbody>\n",
       "</table>\n",
       "</div>"
      ],
      "text/plain": [
       "   Zip Code  Total Population  Median Age  Total Males  Total Females  \\\n",
       "0     91371                 1        73.5            0              1   \n",
       "1     90001             57110        26.6        28468          28642   \n",
       "2     90002             51223        25.5        24876          26347   \n",
       "3     90003             66266        26.3        32631          33635   \n",
       "4     90004             62180        34.8        31302          30878   \n",
       "\n",
       "   Total Households  Average Household Size  \n",
       "0                 1                    1.00  \n",
       "1             12971                    4.40  \n",
       "2             11731                    4.36  \n",
       "3             15642                    4.22  \n",
       "4             22547                    2.73  "
      ]
     },
     "execution_count": 3,
     "metadata": {},
     "output_type": "execute_result"
    }
   ],
   "source": [
    "data2.head()"
   ]
  },
  {
   "cell_type": "code",
   "execution_count": 4,
   "metadata": {
    "collapsed": false
   },
   "outputs": [
    {
     "data": {
      "text/plain": [
       "0    91371\n",
       "Name: Zip Code, dtype: int64"
      ]
     },
     "execution_count": 4,
     "metadata": {},
     "output_type": "execute_result"
    }
   ],
   "source": [
    "unq_zip = np.unique(data2.iloc[:,0])\n",
    "data2.iloc[0:1,0]"
   ]
  },
  {
   "cell_type": "code",
   "execution_count": null,
   "metadata": {
    "collapsed": false
   },
   "outputs": [],
   "source": [
    "new_d = []\n",
    "#.iloc[0:1,0] d1.iloc[d1['SHIP_TO_ZIP'] == d2['Zip Code']\n",
    "for d2_i, d2_r in data2.iterrows():\n",
    "    #print(d2)\n",
    "    temp = []\n",
    "    for d1_i,d1_r in data.iterrows():\n",
    "        \n",
    "        if d1_r['SHIP_TO_ZIP'] == d2_r['Zip Code']:\n",
    "            temp.append(d1_r)\n",
    "    #temp = [d1 if d1[35] == d2[0] for d1 in data]\n",
    "    \n",
    "    for t_r in temp:\n",
    "        t_r['Total_Population'] = d2_r['Total Population']\n",
    "        t_r['Median Age'] = d2_r['Median Age']\n",
    "        t_r['Total Males'] = d2_r['Total Males']\n",
    "        t_r['Total Females'] = d2_r['Total Females']\n",
    "        t_r['Total Households'] = d2_r['Total Households']\n",
    "        t_r['Average Household Size'] = d2_r['Average Household Size']\n",
    "        \n",
    "    new_d.append(temp)"
   ]
  },
  {
   "cell_type": "code",
   "execution_count": 45,
   "metadata": {
    "collapsed": false
   },
   "outputs": [
    {
     "data": {
      "text/plain": [
       "319"
      ]
     },
     "execution_count": 45,
     "metadata": {},
     "output_type": "execute_result"
    }
   ],
   "source": []
  },
  {
   "cell_type": "code",
   "execution_count": 7,
   "metadata": {
    "collapsed": false
   },
   "outputs": [
    {
     "data": {
      "text/plain": [
       "Index([u'#Sales_Order_Nbr', u'Sales_Order_Line_Nbr', u'Package_Id',\n",
       "       u'Order_Dt', u'Party_Id', u'Order_Type_Cd', u'Shipping_Priority_Ind',\n",
       "       u'Total_Line_Amt', u'Unit_Price_Amt', u'Line_Status_Cd',\n",
       "       u'Line_Status_Dt', u'Product_Id', u'Skn_Id', u'Sku_Id', u'Color_Desc',\n",
       "       u'Size_Desc', u'Shipped_Dt', u'Source_Ship_Warehouse_Nbr',\n",
       "       u'Assigned_Dc_Id', u'Cancelled_Qty', u'Ordered_Qty', u'Shipped_Qty',\n",
       "       u'Merchandise_Div_Desc', u'Merchandise_Dept_Desc',\n",
       "       u'Carrier_Used_Tracking_Id', u'Shipment_Status_Dt', u'Pickup_Dt',\n",
       "       u'Scheduled_Delivery_Dt', u'Rescheduled_Delivery_Dt',\n",
       "       u'Package_Scan_Dttm', u'Package_Cnt', u'Actual_Total_Package_Qty',\n",
       "       u'Delivery_Confirmation_Dt', u'SHIP_TO_CITY', u'SHIP_TO_STATE',\n",
       "       u'SHIP_TO_ZIP'],\n",
       "      dtype='object')"
      ]
     },
     "execution_count": 7,
     "metadata": {},
     "output_type": "execute_result"
    }
   ],
   "source": [
    "data.columns"
   ]
  },
  {
   "cell_type": "code",
   "execution_count": 5,
   "metadata": {
    "collapsed": false
   },
   "outputs": [],
   "source": [
    "#np.unique(data['SHIP_TO_STATE'])\n",
    "data['diff'] = (data['Delivery_Confirmation_Dt'] - data['Order_Dt']).dt.days\n",
    "data['init_diff'] = (data['Shipped_Dt'] - data['Order_Dt']).dt.days\n",
    "data['ship_diff'] = (data['Delivery_Confirmation_Dt'] - data['Shipped_Dt']).dt.days"
   ]
  },
  {
   "cell_type": "code",
   "execution_count": 6,
   "metadata": {
    "collapsed": false
   },
   "outputs": [],
   "source": [
    "unq_customers_ids = np.unique(data['Party_Id'])\n",
    "unq_customers = [ data.loc[data['Party_Id'] == u] for u in unq_customers_ids]"
   ]
  },
  {
   "cell_type": "code",
   "execution_count": 7,
   "metadata": {
    "collapsed": false
   },
   "outputs": [
    {
     "data": {
      "text/html": [
       "<div>\n",
       "<table border=\"1\" class=\"dataframe\">\n",
       "  <thead>\n",
       "    <tr style=\"text-align: right;\">\n",
       "      <th></th>\n",
       "      <th>#Sales_Order_Nbr</th>\n",
       "      <th>Sales_Order_Line_Nbr</th>\n",
       "      <th>Package_Id</th>\n",
       "      <th>Order_Dt</th>\n",
       "      <th>Party_Id</th>\n",
       "      <th>Order_Type_Cd</th>\n",
       "      <th>Shipping_Priority_Ind</th>\n",
       "      <th>Total_Line_Amt</th>\n",
       "      <th>Unit_Price_Amt</th>\n",
       "      <th>Line_Status_Cd</th>\n",
       "      <th>...</th>\n",
       "      <th>Package_Scan_Dttm</th>\n",
       "      <th>Package_Cnt</th>\n",
       "      <th>Actual_Total_Package_Qty</th>\n",
       "      <th>Delivery_Confirmation_Dt</th>\n",
       "      <th>SHIP_TO_CITY</th>\n",
       "      <th>SHIP_TO_STATE</th>\n",
       "      <th>SHIP_TO_ZIP</th>\n",
       "      <th>diff</th>\n",
       "      <th>init_diff</th>\n",
       "      <th>ship_diff</th>\n",
       "    </tr>\n",
       "  </thead>\n",
       "  <tbody>\n",
       "    <tr>\n",
       "      <th>48301</th>\n",
       "      <td>749382118737</td>\n",
       "      <td>1</td>\n",
       "      <td>2932447886</td>\n",
       "      <td>2016-11-29</td>\n",
       "      <td>114789</td>\n",
       "      <td>QVC</td>\n",
       "      <td>NaN</td>\n",
       "      <td>31.42</td>\n",
       "      <td>26.36</td>\n",
       "      <td>VS</td>\n",
       "      <td>...</td>\n",
       "      <td>2016-12-01 08:43:14</td>\n",
       "      <td>1</td>\n",
       "      <td>1</td>\n",
       "      <td>2016-12-06</td>\n",
       "      <td>NaN</td>\n",
       "      <td>NJ</td>\n",
       "      <td>8638</td>\n",
       "      <td>7.0</td>\n",
       "      <td>3.0</td>\n",
       "      <td>4.0</td>\n",
       "    </tr>\n",
       "    <tr>\n",
       "      <th>53552</th>\n",
       "      <td>249382118742</td>\n",
       "      <td>1</td>\n",
       "      <td>2932463346</td>\n",
       "      <td>2016-11-29</td>\n",
       "      <td>114789</td>\n",
       "      <td>QVC</td>\n",
       "      <td>NaN</td>\n",
       "      <td>35.31</td>\n",
       "      <td>30.00</td>\n",
       "      <td>VS</td>\n",
       "      <td>...</td>\n",
       "      <td>2016-11-30 19:03:59</td>\n",
       "      <td>1</td>\n",
       "      <td>1</td>\n",
       "      <td>2016-12-04</td>\n",
       "      <td>NaN</td>\n",
       "      <td>NJ</td>\n",
       "      <td>8638</td>\n",
       "      <td>5.0</td>\n",
       "      <td>2.0</td>\n",
       "      <td>3.0</td>\n",
       "    </tr>\n",
       "    <tr>\n",
       "      <th>61836</th>\n",
       "      <td>949382118719</td>\n",
       "      <td>1</td>\n",
       "      <td>2932463339</td>\n",
       "      <td>2016-11-29</td>\n",
       "      <td>114789</td>\n",
       "      <td>QVC</td>\n",
       "      <td>NaN</td>\n",
       "      <td>31.42</td>\n",
       "      <td>26.36</td>\n",
       "      <td>VS</td>\n",
       "      <td>...</td>\n",
       "      <td>2016-12-01 10:42:47</td>\n",
       "      <td>1</td>\n",
       "      <td>1</td>\n",
       "      <td>2016-12-09</td>\n",
       "      <td>NaN</td>\n",
       "      <td>NJ</td>\n",
       "      <td>8638</td>\n",
       "      <td>10.0</td>\n",
       "      <td>3.0</td>\n",
       "      <td>7.0</td>\n",
       "    </tr>\n",
       "    <tr>\n",
       "      <th>77528</th>\n",
       "      <td>49382118720</td>\n",
       "      <td>1</td>\n",
       "      <td>2932447885</td>\n",
       "      <td>2016-11-29</td>\n",
       "      <td>114789</td>\n",
       "      <td>QVC</td>\n",
       "      <td>NaN</td>\n",
       "      <td>31.42</td>\n",
       "      <td>26.36</td>\n",
       "      <td>VS</td>\n",
       "      <td>...</td>\n",
       "      <td>2016-12-01 00:37:32</td>\n",
       "      <td>1</td>\n",
       "      <td>1</td>\n",
       "      <td>2016-12-06</td>\n",
       "      <td>NaN</td>\n",
       "      <td>NJ</td>\n",
       "      <td>8638</td>\n",
       "      <td>7.0</td>\n",
       "      <td>2.0</td>\n",
       "      <td>5.0</td>\n",
       "    </tr>\n",
       "  </tbody>\n",
       "</table>\n",
       "<p>4 rows × 39 columns</p>\n",
       "</div>"
      ],
      "text/plain": [
       "       #Sales_Order_Nbr  Sales_Order_Line_Nbr  Package_Id   Order_Dt  \\\n",
       "48301      749382118737                     1  2932447886 2016-11-29   \n",
       "53552      249382118742                     1  2932463346 2016-11-29   \n",
       "61836      949382118719                     1  2932463339 2016-11-29   \n",
       "77528       49382118720                     1  2932447885 2016-11-29   \n",
       "\n",
       "       Party_Id Order_Type_Cd  Shipping_Priority_Ind  Total_Line_Amt  \\\n",
       "48301    114789           QVC                    NaN           31.42   \n",
       "53552    114789           QVC                    NaN           35.31   \n",
       "61836    114789           QVC                    NaN           31.42   \n",
       "77528    114789           QVC                    NaN           31.42   \n",
       "\n",
       "       Unit_Price_Amt Line_Status_Cd    ...       Package_Scan_Dttm  \\\n",
       "48301           26.36             VS    ...     2016-12-01 08:43:14   \n",
       "53552           30.00             VS    ...     2016-11-30 19:03:59   \n",
       "61836           26.36             VS    ...     2016-12-01 10:42:47   \n",
       "77528           26.36             VS    ...     2016-12-01 00:37:32   \n",
       "\n",
       "       Package_Cnt  Actual_Total_Package_Qty  Delivery_Confirmation_Dt  \\\n",
       "48301            1                         1                2016-12-06   \n",
       "53552            1                         1                2016-12-04   \n",
       "61836            1                         1                2016-12-09   \n",
       "77528            1                         1                2016-12-06   \n",
       "\n",
       "      SHIP_TO_CITY SHIP_TO_STATE SHIP_TO_ZIP  diff  init_diff  ship_diff  \n",
       "48301          NaN          NJ          8638   7.0        3.0        4.0  \n",
       "53552          NaN          NJ          8638   5.0        2.0        3.0  \n",
       "61836          NaN          NJ          8638  10.0        3.0        7.0  \n",
       "77528          NaN          NJ          8638   7.0        2.0        5.0  \n",
       "\n",
       "[4 rows x 39 columns]"
      ]
     },
     "execution_count": 7,
     "metadata": {},
     "output_type": "execute_result"
    }
   ],
   "source": [
    "unq_customers[2]"
   ]
  },
  {
   "cell_type": "code",
   "execution_count": 8,
   "metadata": {
    "collapsed": false
   },
   "outputs": [
    {
     "data": {
      "text/plain": [
       "48301    114789\n",
       "53552    114789\n",
       "61836    114789\n",
       "77528    114789\n",
       "Name: Party_Id, dtype: int64"
      ]
     },
     "execution_count": 8,
     "metadata": {},
     "output_type": "execute_result"
    }
   ],
   "source": [
    "unq_customers[2]['Party_Id']"
   ]
  },
  {
   "cell_type": "code",
   "execution_count": 9,
   "metadata": {
    "collapsed": false
   },
   "outputs": [
    {
     "name": "stderr",
     "output_type": "stream",
     "text": [
      "C:\\Users\\Siddharth Patel\\Anaconda2\\lib\\site-packages\\numpy\\lib\\function_base.py:3142: RuntimeWarning: Invalid value encountered in median\n",
      "  RuntimeWarning)\n"
     ]
    }
   ],
   "source": [
    "rdf = [ [\n",
    "         np.max(unc['Party_Id']), \n",
    "         np.mean(unc['Total_Line_Amt']), \n",
    "         np.median(unc['Total_Line_Amt']),\n",
    "         np.sum(unc['Total_Line_Amt']),\n",
    "         np.mean(unc['diff']), \n",
    "         np.median(unc['diff']),\n",
    "        np.mean(unc['ship_diff']), \n",
    "         np.median(unc['ship_diff']),\n",
    "        np.mean(unc['init_diff']), \n",
    "         np.median(unc['init_diff']),\n",
    "         len(unc)\n",
    "        ]\n",
    "         for unc in unq_customers\n",
    "      ]\n",
    "\n"
   ]
  },
  {
   "cell_type": "code",
   "execution_count": 10,
   "metadata": {
    "collapsed": false
   },
   "outputs": [
    {
     "data": {
      "text/plain": [
       "[103789,\n",
       " 50.48666666666667,\n",
       " 30.98,\n",
       " 151.46,\n",
       " 8.666666666666666,\n",
       " 7.0,\n",
       " 7.333333333333333,\n",
       " 6.0,\n",
       " 1.3333333333333333,\n",
       " 1.0,\n",
       " 3]"
      ]
     },
     "execution_count": 10,
     "metadata": {},
     "output_type": "execute_result"
    }
   ],
   "source": [
    "rdf[1]"
   ]
  },
  {
   "cell_type": "code",
   "execution_count": 11,
   "metadata": {
    "collapsed": false
   },
   "outputs": [],
   "source": [
    "df2 = pd.DataFrame(rdf,\n",
    "               columns=['Party_Id', 'Mean_Business', 'Median_Business','Total_Business' ,'Mean_Days', 'Median_Days', 'Mean_Ship_Delay', 'Median_Ship_Delay','Mean_Initial_Delay', 'Median_Initial_Delay', 'Total_Transactions'])"
   ]
  },
  {
   "cell_type": "code",
   "execution_count": 12,
   "metadata": {
    "collapsed": false
   },
   "outputs": [
    {
     "data": {
      "text/html": [
       "<div>\n",
       "<table border=\"1\" class=\"dataframe\">\n",
       "  <thead>\n",
       "    <tr style=\"text-align: right;\">\n",
       "      <th></th>\n",
       "      <th>Party_Id</th>\n",
       "      <th>Mean_Business</th>\n",
       "      <th>Median_Business</th>\n",
       "      <th>Total_Business</th>\n",
       "      <th>Mean_Days</th>\n",
       "      <th>Median_Days</th>\n",
       "      <th>Mean_Ship_Delay</th>\n",
       "      <th>Median_Ship_Delay</th>\n",
       "      <th>Mean_Initial_Delay</th>\n",
       "      <th>Median_Initial_Delay</th>\n",
       "      <th>Total_Transactions</th>\n",
       "    </tr>\n",
       "  </thead>\n",
       "  <tbody>\n",
       "    <tr>\n",
       "      <th>0</th>\n",
       "      <td>101789</td>\n",
       "      <td>84.780000</td>\n",
       "      <td>84.78</td>\n",
       "      <td>84.78</td>\n",
       "      <td>6.000000</td>\n",
       "      <td>6.0</td>\n",
       "      <td>4.000000</td>\n",
       "      <td>4.0</td>\n",
       "      <td>2.000000</td>\n",
       "      <td>2.0</td>\n",
       "      <td>1</td>\n",
       "    </tr>\n",
       "    <tr>\n",
       "      <th>1</th>\n",
       "      <td>103789</td>\n",
       "      <td>50.486667</td>\n",
       "      <td>30.98</td>\n",
       "      <td>151.46</td>\n",
       "      <td>8.666667</td>\n",
       "      <td>7.0</td>\n",
       "      <td>7.333333</td>\n",
       "      <td>6.0</td>\n",
       "      <td>1.333333</td>\n",
       "      <td>1.0</td>\n",
       "      <td>3</td>\n",
       "    </tr>\n",
       "    <tr>\n",
       "      <th>2</th>\n",
       "      <td>114789</td>\n",
       "      <td>32.392500</td>\n",
       "      <td>31.42</td>\n",
       "      <td>129.57</td>\n",
       "      <td>7.250000</td>\n",
       "      <td>7.0</td>\n",
       "      <td>4.750000</td>\n",
       "      <td>4.5</td>\n",
       "      <td>2.500000</td>\n",
       "      <td>2.5</td>\n",
       "      <td>4</td>\n",
       "    </tr>\n",
       "    <tr>\n",
       "      <th>3</th>\n",
       "      <td>121699</td>\n",
       "      <td>60.234286</td>\n",
       "      <td>59.46</td>\n",
       "      <td>421.64</td>\n",
       "      <td>6.857143</td>\n",
       "      <td>6.0</td>\n",
       "      <td>4.428571</td>\n",
       "      <td>4.0</td>\n",
       "      <td>2.428571</td>\n",
       "      <td>2.0</td>\n",
       "      <td>7</td>\n",
       "    </tr>\n",
       "    <tr>\n",
       "      <th>4</th>\n",
       "      <td>128789</td>\n",
       "      <td>209.880000</td>\n",
       "      <td>209.88</td>\n",
       "      <td>209.88</td>\n",
       "      <td>6.000000</td>\n",
       "      <td>6.0</td>\n",
       "      <td>5.000000</td>\n",
       "      <td>5.0</td>\n",
       "      <td>1.000000</td>\n",
       "      <td>1.0</td>\n",
       "      <td>1</td>\n",
       "    </tr>\n",
       "  </tbody>\n",
       "</table>\n",
       "</div>"
      ],
      "text/plain": [
       "   Party_Id  Mean_Business  Median_Business  Total_Business  Mean_Days  \\\n",
       "0    101789      84.780000            84.78           84.78   6.000000   \n",
       "1    103789      50.486667            30.98          151.46   8.666667   \n",
       "2    114789      32.392500            31.42          129.57   7.250000   \n",
       "3    121699      60.234286            59.46          421.64   6.857143   \n",
       "4    128789     209.880000           209.88          209.88   6.000000   \n",
       "\n",
       "   Median_Days  Mean_Ship_Delay  Median_Ship_Delay  Mean_Initial_Delay  \\\n",
       "0          6.0         4.000000                4.0            2.000000   \n",
       "1          7.0         7.333333                6.0            1.333333   \n",
       "2          7.0         4.750000                4.5            2.500000   \n",
       "3          6.0         4.428571                4.0            2.428571   \n",
       "4          6.0         5.000000                5.0            1.000000   \n",
       "\n",
       "   Median_Initial_Delay  Total_Transactions  \n",
       "0                   2.0                   1  \n",
       "1                   1.0                   3  \n",
       "2                   2.5                   4  \n",
       "3                   2.0                   7  \n",
       "4                   1.0                   1  "
      ]
     },
     "execution_count": 12,
     "metadata": {},
     "output_type": "execute_result"
    }
   ],
   "source": [
    "df2.head()"
   ]
  },
  {
   "cell_type": "code",
   "execution_count": 13,
   "metadata": {
    "collapsed": true
   },
   "outputs": [],
   "source": [
    "df2.to_csv('transactionsq3.csv', sep=',', encoding='utf-8')"
   ]
  },
  {
   "cell_type": "code",
   "execution_count": 14,
   "metadata": {
    "collapsed": false
   },
   "outputs": [
    {
     "name": "stderr",
     "output_type": "stream",
     "text": [
      "C:\\Users\\Siddharth Patel\\Anaconda2\\lib\\site-packages\\sklearn\\cross_validation.py:41: DeprecationWarning: This module was deprecated in version 0.18 in favor of the model_selection module into which all the refactored classes and functions are moved. Also note that the interface of the new CV iterators are different from that of this module. This module will be removed in 0.20.\n",
      "  \"This module will be removed in 0.20.\", DeprecationWarning)\n"
     ]
    }
   ],
   "source": [
    "from sklearn import preprocessing, cross_validation\n",
    "from sklearn.linear_model import LinearRegression\n",
    "#import pickle\n",
    "import matplotlib.pyplot as plt\n",
    "from sklearn.metrics import mean_squared_error, r2_score\n",
    "%matplotlib inline"
   ]
  },
  {
   "cell_type": "code",
   "execution_count": 15,
   "metadata": {
    "collapsed": true
   },
   "outputs": [],
   "source": [
    "df_features = ['Mean_Business', 'Median_Business','Total_Business' ,'Mean_Days', 'Median_Days', 'Mean_Initial_Delay', 'Median_Initial_Delay']\n",
    "df_target =  'Total_Transactions'\n",
    "\n",
    "df_features_aic = ['Mean_Business', 'Median_Business','Total_Business' ,'Mean_Days', 'Median_Days']\n",
    "\n",
    "df_features_2 = ['Total_Business' ,'Mean_Days', 'Mean_Initial_Delay','Mean_Ship_Delay']"
   ]
  },
  {
   "cell_type": "code",
   "execution_count": 16,
   "metadata": {
    "collapsed": false
   },
   "outputs": [],
   "source": [
    "df2.dropna(inplace=True)\n",
    "\n",
    "#x = np.array(df2.drop(['Total_Transactions'],1))\n",
    "x = np.array(df2[df_features])\n",
    "x2 = np.array(df2[df_features_aic])\n",
    "x3 = np.array(df2[df_features_2])\n",
    "y = np.array(df2['Total_Transactions'])"
   ]
  },
  {
   "cell_type": "code",
   "execution_count": 17,
   "metadata": {
    "collapsed": false
   },
   "outputs": [
    {
     "name": "stdout",
     "output_type": "stream",
     "text": [
      "(9336, 9336)\n"
     ]
    },
    {
     "data": {
      "text/plain": [
       "array([[  84.78      ,   84.78      ,   84.78      , ...,    6.        ,\n",
       "           2.        ,    2.        ],\n",
       "       [  50.48666667,   30.98      ,  151.46      , ...,    7.        ,\n",
       "           1.33333333,    1.        ],\n",
       "       [  32.3925    ,   31.42      ,  129.57      , ...,    7.        ,\n",
       "           2.5       ,    2.5       ],\n",
       "       ..., \n",
       "       [ 133.27      ,  133.27      ,  133.27      , ...,    5.        ,\n",
       "           3.        ,    3.        ],\n",
       "       [  31.82666667,   28.14      ,  190.96      , ...,    6.        ,\n",
       "           3.        ,    3.        ],\n",
       "       [ 181.4       ,  181.4       ,  181.4       , ...,    5.        ,\n",
       "           3.        ,    3.        ]])"
      ]
     },
     "execution_count": 17,
     "metadata": {},
     "output_type": "execute_result"
    }
   ],
   "source": [
    "print(len(x2),len(y))\n",
    "x"
   ]
  },
  {
   "cell_type": "code",
   "execution_count": 18,
   "metadata": {
    "collapsed": false
   },
   "outputs": [],
   "source": [
    "x_train,x_test,y_train,y_test = cross_validation.train_test_split(x,y,test_size=0.2)\n",
    "\n",
    "x_train2,x_test2,y_train,y_test = cross_validation.train_test_split(x2,y,test_size=0.2)\n",
    "\n"
   ]
  },
  {
   "cell_type": "code",
   "execution_count": 19,
   "metadata": {
    "collapsed": false
   },
   "outputs": [
    {
     "name": "stdout",
     "output_type": "stream",
     "text": [
      "((1868L, 7L), (1868L,))\n",
      "((1868L, 5L), (1868L,))\n"
     ]
    }
   ],
   "source": [
    "print(x_test.shape,y_test.shape)\n",
    "print( x_test2.shape,y_test.shape)"
   ]
  },
  {
   "cell_type": "code",
   "execution_count": 20,
   "metadata": {
    "collapsed": false
   },
   "outputs": [
    {
     "data": {
      "text/plain": [
       "LinearRegression(copy_X=True, fit_intercept=True, n_jobs=1, normalize=False)"
      ]
     },
     "execution_count": 20,
     "metadata": {},
     "output_type": "execute_result"
    }
   ],
   "source": [
    "clf = LinearRegression()\n",
    "clf.fit(x_train,y_train)\n",
    "\n",
    "clf_aic = LinearRegression()\n",
    "clf_aic.fit(x_train2,y_train)"
   ]
  },
  {
   "cell_type": "code",
   "execution_count": 21,
   "metadata": {
    "collapsed": false
   },
   "outputs": [
    {
     "name": "stdout",
     "output_type": "stream",
     "text": [
      "-0.00127469810574\n",
      "0.887925317225\n"
     ]
    }
   ],
   "source": [
    "accuracy = clf.score(x_test,y_test)\n",
    "accuracy_aic = clf_aic.score(x_test2,y_test)\n",
    "print(accuracy)\n",
    "print(accuracy_aic)"
   ]
  },
  {
   "cell_type": "code",
   "execution_count": 22,
   "metadata": {
    "collapsed": false
   },
   "outputs": [],
   "source": [
    "pred = clf.predict(x_test)\n",
    "pred2 = clf_aic.predict(x_test2)"
   ]
  },
  {
   "cell_type": "code",
   "execution_count": 23,
   "metadata": {
    "collapsed": false
   },
   "outputs": [
    {
     "data": {
      "image/png": "[encoded data removed]",
      "text/plain": [
       "<matplotlib.figure.Figure at 0x1d65a780>"
      ]
     },
     "metadata": {},
     "output_type": "display_data"
    },
    {
     "data": {
      "image/png": "[encoded data removed]",
      "text/plain": [
       "<matplotlib.figure.Figure at 0x1d81f0f0>"
      ]
     },
     "metadata": {},
     "output_type": "display_data"
    }
   ],
   "source": [
    "plt.scatter(pred, y_test)\n",
    "plt.xlabel('Predicted Values')\n",
    "plt.ylabel('Real Values')\n",
    "plt.xticks(())\n",
    "plt.yticks(())\n",
    "plt.show()\n",
    "\n",
    "\n",
    "plt.scatter(pred2, y_test)\n",
    "plt.xlabel('Predicted Values')\n",
    "plt.ylabel('Real Values')\n",
    "plt.xticks(())\n",
    "plt.yticks(())\n",
    "plt.show()"
   ]
  },
  {
   "cell_type": "code",
   "execution_count": 24,
   "metadata": {
    "collapsed": false
   },
   "outputs": [
    {
     "name": "stdout",
     "output_type": "stream",
     "text": [
      "('Coefficients: \\n', array([ -3.83429891e-03,   3.46690522e-03,  -1.41754040e-04,\n",
      "         3.23956564e-01,  -2.40230039e-01,  -3.36782753e-01,\n",
      "         2.67603005e-01]))\n",
      "Mean squared error: 57.16\n",
      "Variance score: -0.00\n"
     ]
    }
   ],
   "source": [
    "print('Coefficients: \\n', clf.coef_)\n",
    "# The mean squared error\n",
    "print(\"Mean squared error: %.2f\"\n",
    "      % mean_squared_error(y_test, pred))\n",
    "# Explained variance score: 1 is perfect prediction\n",
    "print('Variance score: %.2f' % r2_score(y_test, pred))"
   ]
  },
  {
   "cell_type": "code",
   "execution_count": 25,
   "metadata": {
    "collapsed": false
   },
   "outputs": [
    {
     "name": "stdout",
     "output_type": "stream",
     "text": [
      "('Coefficients: \\n', array([-0.07420108,  0.05440758,  0.01503867,  0.02664827, -0.03227541]))\n",
      "Mean squared error: 6.40\n",
      "Variance score: 0.89\n"
     ]
    }
   ],
   "source": [
    "print('Coefficients: \\n', clf_aic.coef_)\n",
    "# The mean squared error\n",
    "print(\"Mean squared error: %.2f\"\n",
    "      % mean_squared_error(y_test, pred2))\n",
    "# Explained variance score: 1 is perfect prediction\n",
    "print('Variance score: %.2f' % r2_score(y_test, pred2))"
   ]
  },
  {
   "cell_type": "code",
   "execution_count": 26,
   "metadata": {
    "collapsed": false
   },
   "outputs": [
    {
     "data": {
      "text/plain": [
       "0.77211874903911049"
      ]
     },
     "execution_count": 26,
     "metadata": {},
     "output_type": "execute_result"
    }
   ],
   "source": [
    "x_train3,x_test3,y_train,y_test = cross_validation.train_test_split(x3,y,test_size=0.2)\n",
    "clf3 = LinearRegression()\n",
    "clf3.fit(x_train3,y_train)\n",
    "clf3.score(x_test3,y_test)"
   ]
  },
  {
   "cell_type": "code",
   "execution_count": 27,
   "metadata": {
    "collapsed": true
   },
   "outputs": [],
   "source": [
    "pred3 = clf3.predict(x_test3)"
   ]
  },
  {
   "cell_type": "code",
   "execution_count": 28,
   "metadata": {
    "collapsed": false
   },
   "outputs": [
    {
     "name": "stdout",
     "output_type": "stream",
     "text": [
      "('Coefficients: ', array([ 0.01265403,  0.01830567, -0.00446198,  0.02276764]))\n",
      "Mean squared error: 13.49\n",
      "Variance score: 0.77\n"
     ]
    }
   ],
   "source": [
    "print('Coefficients: ', clf3.coef_)\n",
    "# The mean squared error\n",
    "print(\"Mean squared error: %.2f\"\n",
    "      % mean_squared_error(y_test, pred3))\n",
    "# Explained variance score: 1 is perfect prediction\n",
    "print('Variance score: %.2f' % r2_score(y_test, pred3))"
   ]
  },
  {
   "cell_type": "code",
   "execution_count": 29,
   "metadata": {
    "collapsed": false
   },
   "outputs": [
    {
     "data": {
      "image/png": "[encoded data removed]",
      "text/plain": [
       "<matplotlib.figure.Figure at 0x1d59da20>"
      ]
     },
     "metadata": {},
     "output_type": "display_data"
    }
   ],
   "source": [
    "plt.scatter(pred3, y_test)\n",
    "plt.xlabel('Predicted Values')\n",
    "plt.ylabel('Real Values')\n",
    "plt.xticks(())\n",
    "plt.yticks(())\n",
    "plt.show()"
   ]
  },
  {
   "cell_type": "code",
   "execution_count": 30,
   "metadata": {
    "collapsed": true
   },
   "outputs": [],
   "source": [
    "import statsmodels.api as sm"
   ]
  },
  {
   "cell_type": "code",
   "execution_count": 31,
   "metadata": {
    "collapsed": false
   },
   "outputs": [
    {
     "ename": "AttributeError",
     "evalue": "'LinearRegression' object has no attribute 'summary'",
     "output_type": "error",
     "traceback": [
      "\u001b[1;31m---------------------------------------------------------------------------\u001b[0m",
      "\u001b[1;31mAttributeError\u001b[0m                            Traceback (most recent call last)",
      "\u001b[1;32m<ipython-input-31-f82a6490ad93>\u001b[0m in \u001b[0;36m<module>\u001b[1;34m()\u001b[0m\n\u001b[1;32m----> 1\u001b[1;33m \u001b[0mclf3\u001b[0m\u001b[1;33m.\u001b[0m\u001b[0msummary\u001b[0m\u001b[1;33m(\u001b[0m\u001b[1;33m)\u001b[0m\u001b[1;33m\u001b[0m\u001b[0m\n\u001b[0m",
      "\u001b[1;31mAttributeError\u001b[0m: 'LinearRegression' object has no attribute 'summary'"
     ]
    }
   ],
   "source": [
    "clf3.summary()"
   ]
  }
 ],
 "metadata": {
  "kernelspec": {
   "display_name": "Python 2",
   "language": "python",
   "name": "python2"
  },
  "language_info": {
   "codemirror_mode": {
    "name": "ipython",
    "version": 2
   },
   "file_extension": ".py",
   "mimetype": "text/x-python",
   "name": "python",
   "nbconvert_exporter": "python",
   "pygments_lexer": "ipython2",
   "version": "2.7.13"
  }
 },
 "nbformat": 4,
 "nbformat_minor": 0
}
