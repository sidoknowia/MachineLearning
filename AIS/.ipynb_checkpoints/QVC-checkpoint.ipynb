{
 "cells": [
  {
   "cell_type": "code",
   "execution_count": null,
   "metadata": {
    "collapsed": true
   },
   "outputs": [],
   "source": [
    "import pandas as pd\n",
    "import numpy as np"
   ]
  },
  {
   "cell_type": "code",
   "execution_count": null,
   "metadata": {
    "collapsed": false
   },
   "outputs": [],
   "source": [
    "data = pd.read_excel(\"SmallerQVCdata.xlsx\")\n",
    "data2 = pd.read_csv(\"2010_Census_Populations_by_Zip_Code.csv\")\n",
    "data.head()"
   ]
  },
  {
   "cell_type": "code",
   "execution_count": null,
   "metadata": {
    "collapsed": false
   },
   "outputs": [],
   "source": [
    "data2.head()"
   ]
  },
  {
   "cell_type": "code",
   "execution_count": null,
   "metadata": {
    "collapsed": false
   },
   "outputs": [],
   "source": [
    "unq_zip = np.unique(data2.iloc[:,0])\n",
    "data2.iloc[0:1,0]"
   ]
  },
  {
   "cell_type": "code",
   "execution_count": null,
   "metadata": {
    "collapsed": false
   },
   "outputs": [],
   "source": [
    "new_d = []\n",
    "#.iloc[0:1,0] d1.iloc[d1['SHIP_TO_ZIP'] == d2['Zip Code']\n",
    "for d2_i, d2_r in data2.iterrows():\n",
    "    #print(d2)\n",
    "    temp = []\n",
    "    for d1_i,d1_r in data.iterrows():\n",
    "        \n",
    "        if d1_r['SHIP_TO_ZIP'] == d2_r['Zip Code']:\n",
    "            temp.append(d1_r)\n",
    "    #temp = [d1 if d1[35] == d2[0] for d1 in data]\n",
    "    \n",
    "    for t_r in temp:\n",
    "        t_r['Total_Population'] = d2_r['Total Population']\n",
    "        t_r['Median Age'] = d2_r['Median Age']\n",
    "        t_r['Total Males'] = d2_r['Total Males']\n",
    "        t_r['Total Females'] = d2_r['Total Females']\n",
    "        t_r['Total Households'] = d2_r['Total Households']\n",
    "        t_r['Average Household Size'] = d2_r['Average Household Size']\n",
    "        \n",
    "    new_d.append(temp)"
   ]
  },
  {
   "cell_type": "code",
   "execution_count": 45,
   "metadata": {
    "collapsed": false
   },
   "outputs": [
    {
     "data": {
      "text/plain": [
       "319"
      ]
     },
     "execution_count": 45,
     "metadata": {},
     "output_type": "execute_result"
    }
   ],
   "source": []
  },
  {
   "cell_type": "code",
   "execution_count": 7,
   "metadata": {
    "collapsed": false
   },
   "outputs": [
    {
     "data": {
      "text/plain": [
       "Index([u'#Sales_Order_Nbr', u'Sales_Order_Line_Nbr', u'Package_Id',\n",
       "       u'Order_Dt', u'Party_Id', u'Order_Type_Cd', u'Shipping_Priority_Ind',\n",
       "       u'Total_Line_Amt', u'Unit_Price_Amt', u'Line_Status_Cd',\n",
       "       u'Line_Status_Dt', u'Product_Id', u'Skn_Id', u'Sku_Id', u'Color_Desc',\n",
       "       u'Size_Desc', u'Shipped_Dt', u'Source_Ship_Warehouse_Nbr',\n",
       "       u'Assigned_Dc_Id', u'Cancelled_Qty', u'Ordered_Qty', u'Shipped_Qty',\n",
       "       u'Merchandise_Div_Desc', u'Merchandise_Dept_Desc',\n",
       "       u'Carrier_Used_Tracking_Id', u'Shipment_Status_Dt', u'Pickup_Dt',\n",
       "       u'Scheduled_Delivery_Dt', u'Rescheduled_Delivery_Dt',\n",
       "       u'Package_Scan_Dttm', u'Package_Cnt', u'Actual_Total_Package_Qty',\n",
       "       u'Delivery_Confirmation_Dt', u'SHIP_TO_CITY', u'SHIP_TO_STATE',\n",
       "       u'SHIP_TO_ZIP'],\n",
       "      dtype='object')"
      ]
     },
     "execution_count": 7,
     "metadata": {},
     "output_type": "execute_result"
    }
   ],
   "source": [
    "data.columns"
   ]
  },
  {
   "cell_type": "code",
   "execution_count": null,
   "metadata": {
    "collapsed": false
   },
   "outputs": [],
   "source": [
    "#np.unique(data['SHIP_TO_STATE'])\n",
    "data['diff'] = (data['Delivery_Confirmation_Dt'] - data['Order_Dt']).dt.days\n",
    "data['init_diff'] = (data['Shipped_Dt'] - data['Order_Dt']).dt.days\n",
    "data['ship_diff'] = (data['Delivery_Confirmation_Dt'] - data['Shipped_Dt']).dt.days"
   ]
  },
  {
   "cell_type": "code",
   "execution_count": null,
   "metadata": {
    "collapsed": false
   },
   "outputs": [],
   "source": [
    "unq_customers_ids = np.unique(data['Party_Id'])\n",
    "unq_customers = [ data.loc[data['Party_Id'] == u] for u in unq_customers_ids]"
   ]
  },
  {
   "cell_type": "code",
   "execution_count": null,
   "metadata": {
    "collapsed": false
   },
   "outputs": [],
   "source": [
    "unq_customers[2]"
   ]
  },
  {
   "cell_type": "code",
   "execution_count": null,
   "metadata": {
    "collapsed": false
   },
   "outputs": [],
   "source": [
    "unq_customers[2]['Party_Id']"
   ]
  },
  {
   "cell_type": "code",
   "execution_count": null,
   "metadata": {
    "collapsed": false
   },
   "outputs": [],
   "source": [
    "rdf = [ [\n",
    "         np.max(unc['Party_Id']), \n",
    "         np.mean(unc['Total_Line_Amt']), \n",
    "         np.median(unc['Total_Line_Amt']),\n",
    "         np.sum(unc['Total_Line_Amt']),\n",
    "         np.mean(unc['diff']), \n",
    "         np.median(unc['diff']),\n",
    "        np.mean(unc['ship_diff']), \n",
    "         np.median(unc['ship_diff']),\n",
    "        np.mean(unc['init_diff']), \n",
    "         np.median(unc['init_diff']),\n",
    "         len(unc)\n",
    "        ]\n",
    "         for unc in unq_customers\n",
    "      ]\n",
    "\n"
   ]
  },
  {
   "cell_type": "code",
   "execution_count": null,
   "metadata": {
    "collapsed": false
   },
   "outputs": [],
   "source": [
    "rdf[1]"
   ]
  },
  {
   "cell_type": "code",
   "execution_count": null,
   "metadata": {
    "collapsed": false
   },
   "outputs": [],
   "source": [
    "df2 = pd.DataFrame(rdf,\n",
    "               columns=['Party_Id', 'Mean_Business', 'Median_Business','Total_Business' ,'Mean_Days', 'Median_Days', 'Mean_Ship_Delay', 'Median_Ship_Delay','Mean_Initial_Delay', 'Median_Initial_Delay', 'Total_Transactions'])"
   ]
  },
  {
   "cell_type": "code",
   "execution_count": null,
   "metadata": {
    "collapsed": false
   },
   "outputs": [],
   "source": [
    "df2.head()"
   ]
  },
  {
   "cell_type": "code",
   "execution_count": null,
   "metadata": {
    "collapsed": true
   },
   "outputs": [],
   "source": [
    "df2.to_csv('transactionsq3.csv', sep=',', encoding='utf-8')"
   ]
  },
  {
   "cell_type": "code",
   "execution_count": null,
   "metadata": {
    "collapsed": false
   },
   "outputs": [],
   "source": [
    "from sklearn import preprocessing, cross_validation\n",
    "from sklearn.linear_model import LinearRegression\n",
    "#import pickle\n",
    "import matplotlib.pyplot as plt\n",
    "from sklearn.metrics import mean_squared_error, r2_score\n",
    "%matplotlib inline"
   ]
  },
  {
   "cell_type": "code",
   "execution_count": null,
   "metadata": {
    "collapsed": true
   },
   "outputs": [],
   "source": [
    "df_features = ['Mean_Business', 'Median_Business','Total_Business' ,'Mean_Days', 'Median_Days', 'Mean_Initial_Delay', 'Median_Initial_Delay']\n",
    "df_target =  'Total_Transactions'\n",
    "\n",
    "df_features_aic = ['Mean_Business', 'Median_Business','Total_Business' ,'Mean_Days', 'Median_Days']\n",
    "\n",
    "df_features_2 = ['Total_Business' ,'Mean_Days', 'Mean_Initial_Delay','Mean_Ship_Delay']"
   ]
  },
  {
   "cell_type": "code",
   "execution_count": null,
   "metadata": {
    "collapsed": false
   },
   "outputs": [],
   "source": [
    "df2.dropna(inplace=True)\n",
    "\n",
    "#x = np.array(df2.drop(['Total_Transactions'],1))\n",
    "x = np.array(df2[df_features])\n",
    "x2 = np.array(df2[df_features_aic])\n",
    "x3 = np.array(df2[df_features_2])\n",
    "y = np.array(df2['Total_Transactions'])"
   ]
  },
  {
   "cell_type": "code",
   "execution_count": null,
   "metadata": {
    "collapsed": false
   },
   "outputs": [],
   "source": [
    "print(len(x2),len(y))\n",
    "x"
   ]
  },
  {
   "cell_type": "code",
   "execution_count": null,
   "metadata": {
    "collapsed": false
   },
   "outputs": [],
   "source": [
    "x_train,x_test,y_train,y_test = cross_validation.train_test_split(x,y,test_size=0.2)\n",
    "\n",
    "x_train2,x_test2,y_train,y_test = cross_validation.train_test_split(x2,y,test_size=0.2)\n",
    "\n"
   ]
  },
  {
   "cell_type": "code",
   "execution_count": null,
   "metadata": {
    "collapsed": false
   },
   "outputs": [],
   "source": [
    "print(x_test.shape,y_test.shape)\n",
    "print( x_test2.shape,y_test.shape)"
   ]
  },
  {
   "cell_type": "code",
   "execution_count": null,
   "metadata": {
    "collapsed": false
   },
   "outputs": [],
   "source": [
    "clf = LinearRegression()\n",
    "clf.fit(x_train,y_train)\n",
    "\n",
    "clf_aic = LinearRegression()\n",
    "clf_aic.fit(x_train2,y_train)"
   ]
  },
  {
   "cell_type": "code",
   "execution_count": null,
   "metadata": {
    "collapsed": false
   },
   "outputs": [],
   "source": [
    "accuracy = clf.score(x_test,y_test)\n",
    "accuracy_aic = clf_aic.score(x_test2,y_test)\n",
    "print(accuracy)\n",
    "print(accuracy_aic)"
   ]
  },
  {
   "cell_type": "code",
   "execution_count": null,
   "metadata": {
    "collapsed": false
   },
   "outputs": [],
   "source": [
    "pred = clf.predict(x_test)\n",
    "pred2 = clf_aic.predict(x_test2)"
   ]
  },
  {
   "cell_type": "code",
   "execution_count": null,
   "metadata": {
    "collapsed": false
   },
   "outputs": [],
   "source": [
    "plt.scatter(pred, y_test)\n",
    "plt.xlabel('Predicted Values')\n",
    "plt.ylabel('Real Values')\n",
    "plt.xticks(())\n",
    "plt.yticks(())\n",
    "plt.show()\n",
    "\n",
    "\n",
    "plt.scatter(pred2, y_test)\n",
    "plt.xlabel('Predicted Values')\n",
    "plt.ylabel('Real Values')\n",
    "plt.xticks(())\n",
    "plt.yticks(())\n",
    "plt.show()"
   ]
  },
  {
   "cell_type": "code",
   "execution_count": null,
   "metadata": {
    "collapsed": false
   },
   "outputs": [],
   "source": [
    "print('Coefficients: \\n', clf.coef_)\n",
    "# The mean squared error\n",
    "print(\"Mean squared error: %.2f\"\n",
    "      % mean_squared_error(y_test, pred))\n",
    "# Explained variance score: 1 is perfect prediction\n",
    "print('Variance score: %.2f' % r2_score(y_test, pred))"
   ]
  },
  {
   "cell_type": "code",
   "execution_count": null,
   "metadata": {
    "collapsed": false
   },
   "outputs": [],
   "source": [
    "print('Coefficients: \\n', clf_aic.coef_)\n",
    "# The mean squared error\n",
    "print(\"Mean squared error: %.2f\"\n",
    "      % mean_squared_error(y_test, pred2))\n",
    "# Explained variance score: 1 is perfect prediction\n",
    "print('Variance score: %.2f' % r2_score(y_test, pred2))"
   ]
  },
  {
   "cell_type": "code",
   "execution_count": null,
   "metadata": {
    "collapsed": false
   },
   "outputs": [],
   "source": [
    "x_train3,x_test3,y_train,y_test = cross_validation.train_test_split(x3,y,test_size=0.2)\n",
    "clf3 = LinearRegression()\n",
    "clf3.fit(x_train3,y_train)\n",
    "clf3.score(x_test3,y_test)"
   ]
  },
  {
   "cell_type": "code",
   "execution_count": null,
   "metadata": {
    "collapsed": true
   },
   "outputs": [],
   "source": [
    "pred3 = clf3.predict(x_test3)"
   ]
  },
  {
   "cell_type": "code",
   "execution_count": null,
   "metadata": {
    "collapsed": false
   },
   "outputs": [],
   "source": [
    "print('Coefficients: ', clf3.coef_)\n",
    "# The mean squared error\n",
    "print(\"Mean squared error: %.2f\"\n",
    "      % mean_squared_error(y_test, pred3))\n",
    "# Explained variance score: 1 is perfect prediction\n",
    "print('Variance score: %.2f' % r2_score(y_test, pred3))"
   ]
  },
  {
   "cell_type": "code",
   "execution_count": null,
   "metadata": {
    "collapsed": true
   },
   "outputs": [],
   "source": [
    "plt.scatter(pred3, y_test)\n",
    "plt.xlabel('Predicted Values')\n",
    "plt.ylabel('Real Values')\n",
    "plt.xticks(())\n",
    "plt.yticks(())\n",
    "plt.show()"
   ]
  },
  {
   "cell_type": "code",
   "execution_count": null,
   "metadata": {
    "collapsed": true
   },
   "outputs": [],
   "source": []
  }
 ],
 "metadata": {
  "kernelspec": {
   "display_name": "Python 2",
   "language": "python",
   "name": "python2"
  },
  "language_info": {
   "codemirror_mode": {
    "name": "ipython",
    "version": 2
   },
   "file_extension": ".py",
   "mimetype": "text/x-python",
   "name": "python",
   "nbconvert_exporter": "python",
   "pygments_lexer": "ipython2",
   "version": "2.7.13"
  }
 },
 "nbformat": 4,
 "nbformat_minor": 0
}
