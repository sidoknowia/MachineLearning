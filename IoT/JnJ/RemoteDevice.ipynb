{
 "cells": [
  {
   "cell_type": "code",
   "execution_count": 2,
   "metadata": {
    "collapsed": true
   },
   "outputs": [],
   "source": [
    "api_key = 'BBFF-ec8dca1fbad0a2af4899d3c0c64dbca13e9'"
   ]
  },
  {
   "cell_type": "code",
   "execution_count": 3,
   "metadata": {
    "collapsed": true
   },
   "outputs": [],
   "source": [
    "token = 'BBFF-waaHVhEqJL1X1QX8Tdmdumol2uCEnm'"
   ]
  },
  {
   "cell_type": "code",
   "execution_count": 4,
   "metadata": {
    "collapsed": true
   },
   "outputs": [],
   "source": [
    "import time\n",
    "import requests\n",
    "import math\n",
    "from random import random"
   ]
  },
  {
   "cell_type": "code",
   "execution_count": 5,
   "metadata": {
    "collapsed": false
   },
   "outputs": [],
   "source": [
    "press_liq_url =  'http://things.ubidots.com/api/v1.6/devices/liquid_filler/?token='+token\n",
    "bottle_counter_url = 'http://things.ubidots.com/api/v1.6/devices/counter/?token='+token\n",
    "#error_buzz_url = 'http://things.ubidots.com/api/v1.6/devices/error_buzz/?token='+token"
   ]
  },
  {
   "cell_type": "code",
   "execution_count": 11,
   "metadata": {
    "collapsed": false
   },
   "outputs": [
    {
     "name": "stdout",
     "output_type": "stream",
     "text": [
      "5.0\n",
      "1\n",
      "0\n",
      "10.0\n",
      "2\n",
      "0\n",
      "15.0\n",
      "3\n",
      "0\n",
      "20.0\n",
      "4\n",
      "0\n",
      "5\n",
      "1\n",
      "6\n",
      "1\n",
      "7\n",
      "1\n",
      "8\n",
      "1\n",
      "9\n",
      "1\n",
      "10\n",
      "1\n",
      "11\n",
      "1\n",
      "12\n",
      "1\n",
      "13\n",
      "1\n",
      "14\n",
      "1\n",
      "25.0\n",
      "15\n",
      "0\n",
      "30.0\n",
      "16\n",
      "0\n",
      "35.0\n",
      "17\n",
      "0\n",
      "40.0\n",
      "18\n",
      "0\n",
      "45.0\n",
      "19\n",
      "0\n",
      "50.0\n",
      "20\n",
      "0\n",
      "done\n"
     ]
    }
   ],
   "source": [
    "c = 0\n",
    "error_buzz = 0\n",
    "batch_count = 0\n",
    "last_count = 0\n",
    "prod_per = 0\n",
    "\n",
    "while(c < 20):\n",
    "    c = c + 1\n",
    "    \n",
    "    pressure = abs(round(100 + math.sin(random()*10),2))\n",
    "    volume = abs(round(100 + math.sin(random()*10),2))\n",
    "    sleeptime = 2\n",
    "    \n",
    "    if pressure < 99.5 or pressure > 100.7:\n",
    "        error_buzz = 1\n",
    "        \n",
    "        counter_payload = {'last_count' : last_count, 'batch_count' : batch_count, 'batch_prod': prod_per, 'error_val' : error_buzz}\n",
    "        r1 = requests.post(bottle_counter_url, data=counter_payload)\n",
    "        \n",
    "    else:\n",
    "        error_buzz = 0\n",
    "        \n",
    "        last_count = 100\n",
    "        batch_count += last_count\n",
    "        \n",
    "        prod_per =  ( batch_count / 2000.00 ) * 100\n",
    "        print(prod_per)\n",
    "        \n",
    "        liq_filler_payload = {'pressure': pressure, 'volume': volume}\n",
    "        r = requests.post(press_liq_url, data=liq_filler_payload)\n",
    "        \n",
    "        counter_payload = {'last_count' : last_count, 'batch_count' : batch_count, 'batch_prod': prod_per, 'error_val' : error_buzz}\n",
    "        r1 = requests.post(bottle_counter_url, data=counter_payload)\n",
    "    \n",
    "\n",
    "    print(c)\n",
    "    print(error_buzz)\n",
    "    time.sleep(sleeptime) #abs(0.5*round(50*math.sin(c),2))\n",
    "    \n",
    "print(\"done\")"
   ]
  },
  {
   "cell_type": "code",
   "execution_count": 10,
   "metadata": {
    "collapsed": false
   },
   "outputs": [
    {
     "data": {
      "text/plain": [
       "0.0"
      ]
     },
     "execution_count": 10,
     "metadata": {},
     "output_type": "execute_result"
    }
   ],
   "source": [
    "float(100/2000)"
   ]
  },
  {
   "cell_type": "code",
   "execution_count": null,
   "metadata": {
    "collapsed": true
   },
   "outputs": [],
   "source": []
  }
 ],
 "metadata": {
  "kernelspec": {
   "display_name": "Python 2",
   "language": "python",
   "name": "python2"
  },
  "language_info": {
   "codemirror_mode": {
    "name": "ipython",
    "version": 2
   },
   "file_extension": ".py",
   "mimetype": "text/x-python",
   "name": "python",
   "nbconvert_exporter": "python",
   "pygments_lexer": "ipython2",
   "version": "2.7.13"
  }
 },
 "nbformat": 4,
 "nbformat_minor": 0
}
